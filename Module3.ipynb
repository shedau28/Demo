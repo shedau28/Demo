{
  "nbformat": 4,
  "nbformat_minor": 0,
  "metadata": {
    "colab": {
      "name": "Module3.ipynb",
      "provenance": [],
      "collapsed_sections": [],
      "authorship_tag": "ABX9TyMey/EbCDRyqQx8EkBafz16",
      "include_colab_link": true
    },
    "kernelspec": {
      "name": "python3",
      "display_name": "Python 3"
    },
    "language_info": {
      "name": "python"
    }
  },
  "cells": [
    {
      "cell_type": "markdown",
      "metadata": {
        "id": "view-in-github",
        "colab_type": "text"
      },
      "source": [
        "<a href=\"https://colab.research.google.com/github/shedau28/Demo/blob/master/Module3.ipynb\" target=\"_parent\"><img src=\"https://colab.research.google.com/assets/colab-badge.svg\" alt=\"Open In Colab\"/></a>"
      ]
    },
    {
      "cell_type": "markdown",
      "source": [
        "What is List? How will you reverse a list?\n"
      ],
      "metadata": {
        "id": "wHh2FbnCXRks"
      }
    },
    {
      "cell_type": "code",
      "execution_count": null,
      "metadata": {
        "colab": {
          "base_uri": "https://localhost:8080/"
        },
        "id": "_yThQWD-WtL3",
        "outputId": "e4b9c7e7-7238-428f-865c-596b1e916129"
      },
      "outputs": [
        {
          "output_type": "stream",
          "name": "stdout",
          "text": [
            "[5, 4, 3, 2, 1]\n"
          ]
        }
      ],
      "source": [
        "#Lists are used to store multiple items in a single variable.\n",
        "list1 = [1,2,3,4,5]\n",
        "list1.reverse()\n",
        "print(list1)"
      ]
    },
    {
      "cell_type": "markdown",
      "source": [
        "How will you remove last object from a list?\n"
      ],
      "metadata": {
        "id": "ia0IOCfhYZoA"
      }
    },
    {
      "cell_type": "code",
      "source": [
        "list1 = [1,2,3,4,5]\n",
        "\n",
        "list1.pop(-1)\n",
        "print(list1)"
      ],
      "metadata": {
        "colab": {
          "base_uri": "https://localhost:8080/"
        },
        "id": "gjrYhiqoXcsC",
        "outputId": "402185bb-de78-4b58-dde9-1a2c94504295"
      },
      "execution_count": null,
      "outputs": [
        {
          "output_type": "stream",
          "name": "stdout",
          "text": [
            "[1, 2, 3, 4]\n"
          ]
        }
      ]
    },
    {
      "cell_type": "markdown",
      "source": [
        "Suppose list1 is [2, 33, 222, 14, and 25], what is list1 [-1]?\n"
      ],
      "metadata": {
        "id": "aERGAULLYvBy"
      }
    },
    {
      "cell_type": "code",
      "source": [
        "list1= [2, 33, 222, 14, 25]\n",
        "\n",
        "#list[-1] is last element of list 25\n"
      ],
      "metadata": {
        "id": "Zmxqh3MCYo_1"
      },
      "execution_count": null,
      "outputs": []
    },
    {
      "cell_type": "markdown",
      "source": [
        "Differentiate between append () and extend () methods?\n"
      ],
      "metadata": {
        "id": "a0cKt9iVZCtp"
      }
    },
    {
      "cell_type": "code",
      "source": [
        "#by using append() method we can add one element at a time in the list  \n",
        "#and by using extend() method we can add multiple list of items in the list\n",
        " "
      ],
      "metadata": {
        "id": "EiA2-y3sZBx0"
      },
      "execution_count": null,
      "outputs": []
    },
    {
      "cell_type": "markdown",
      "source": [
        " Write a Python function to get the largest number, smallest num and sum \n",
        "of all from a list.\n"
      ],
      "metadata": {
        "id": "wPTyVXmqZunU"
      }
    },
    {
      "cell_type": "code",
      "source": [
        "list1 = [2, 33, 222, 14, 25]\n",
        "\n",
        "list1.sort()\n",
        "print(\"Smallest number is = \" ,list1[0])\n",
        "list1.reverse()\n",
        "print(\"Largest number is = \" ,list1[0])\n",
        "\n",
        "s = 0\n",
        "for i in list1:\n",
        "  s += i\n",
        "  i = i + 1\n",
        "else:\n",
        "  print(\"Sum is = \",s)\n"
      ],
      "metadata": {
        "colab": {
          "base_uri": "https://localhost:8080/"
        },
        "id": "fc-5KgOZZt33",
        "outputId": "e6c5b740-6afc-4959-846e-1b134c8afb4b"
      },
      "execution_count": null,
      "outputs": [
        {
          "output_type": "stream",
          "name": "stdout",
          "text": [
            "Smallest number is =  2\n",
            "Largest number is =  222\n",
            "Sum is =  296\n"
          ]
        }
      ]
    },
    {
      "cell_type": "markdown",
      "source": [
        " How will you compare two lists?"
      ],
      "metadata": {
        "id": "pDrDNno4ateL"
      }
    },
    {
      "cell_type": "code",
      "source": [
        "list1 = [1, 2, 3]\n",
        "list2 = [2, 1, 3]\n",
        "list3 = [3, 2, 4]\n",
        "\n",
        "list1.sort()\n",
        "list2.sort()\n",
        "list3.sort()\n",
        "\n",
        "#for list1 and list2\n",
        "if list1 == list2 :\n",
        "  print(\"same\")\n",
        "else:\n",
        "  print(\"Diffrent\")\n",
        "\n",
        "#for list1 and list3\n",
        "if list1 == list3 :\n",
        "  print(\"same\")\n",
        "else:\n",
        "  print(\"Diffrent\")\n",
        "\n",
        "#for list2 and list3\n",
        "if list3 == list2 :\n",
        "  print(\"same\")\n",
        "else:\n",
        "  print(\"Diffrent\")\n",
        "\n",
        "\n",
        "\n"
      ],
      "metadata": {
        "colab": {
          "base_uri": "https://localhost:8080/"
        },
        "id": "-2OPpllyah0B",
        "outputId": "4c94a1fb-b034-41ea-8b1a-d644481e9215"
      },
      "execution_count": null,
      "outputs": [
        {
          "output_type": "stream",
          "name": "stdout",
          "text": [
            "same\n",
            "Diffrent\n",
            "Diffrent\n"
          ]
        }
      ]
    },
    {
      "cell_type": "markdown",
      "source": [
        "Write a Python program to count the number of strings where the string \n",
        "length is 2 or more and the first and last character are same from a given \n",
        "list of strings"
      ],
      "metadata": {
        "id": "hvmbxQ3tcBiB"
      }
    },
    {
      "cell_type": "code",
      "source": [
        "#l1 = []"
      ],
      "metadata": {
        "id": "Bi0qiLNUbzHt"
      },
      "execution_count": null,
      "outputs": []
    },
    {
      "cell_type": "markdown",
      "source": [
        "Write a Python program to remove duplicates from a list"
      ],
      "metadata": {
        "id": "EgivyN4rc4aR"
      }
    },
    {
      "cell_type": "code",
      "source": [
        "l1 = [1, 3, 4, 6,3,3,3,3,3,3, 22, 2, 6, 9]\n",
        "\n",
        "l2 = []\n",
        "\n",
        "for i in l1:\n",
        "  if i not in l2:\n",
        "    l2.append(i)\n",
        "else:\n",
        "  print(l2)"
      ],
      "metadata": {
        "colab": {
          "base_uri": "https://localhost:8080/"
        },
        "id": "yM3DWFV3c0Hm",
        "outputId": "6ed1e5b5-3e40-4500-fdf8-bd656a2083f0"
      },
      "execution_count": null,
      "outputs": [
        {
          "output_type": "stream",
          "name": "stdout",
          "text": [
            "[1, 3, 4, 6, 22, 2, 9]\n"
          ]
        }
      ]
    },
    {
      "cell_type": "markdown",
      "source": [
        "Write a Python program to check a list is empty or not."
      ],
      "metadata": {
        "id": "7EHArbcNf1kx"
      }
    },
    {
      "cell_type": "code",
      "source": [
        "l1 = []\n",
        "if len(l1) == 0:\n",
        "  print(\"Empty\")\n",
        "else:\n",
        "  print(len(l1))\n"
      ],
      "metadata": {
        "colab": {
          "base_uri": "https://localhost:8080/"
        },
        "id": "LDJB-lZbdfnY",
        "outputId": "88924f8f-36c7-4f72-c955-6853bf0d25f4"
      },
      "execution_count": null,
      "outputs": [
        {
          "output_type": "stream",
          "name": "stdout",
          "text": [
            "Empty\n"
          ]
        }
      ]
    },
    {
      "cell_type": "markdown",
      "source": [
        "Write a Python function that takes two lists and returns true if they have \n",
        "at least one common member.\n"
      ],
      "metadata": {
        "id": "9S9gVDPsgnWJ"
      }
    },
    {
      "cell_type": "code",
      "source": [
        "l1 = [1, 4, 0, 9]\n",
        "l2 = [2, 5, 7, 8]\n",
        "\n",
        "for i in l1:\n",
        "  if i in l2:\n",
        "    print(\"True\")\n",
        "\n",
        "\n",
        "\n"
      ],
      "metadata": {
        "id": "nZM-vOPWgF44"
      },
      "execution_count": null,
      "outputs": []
    },
    {
      "cell_type": "markdown",
      "source": [
        "Write a Python program to generate and print a list of first and last 5 \n",
        "elements where the values are square of numbers between 1 and 30.\n"
      ],
      "metadata": {
        "id": "_HPUEjvZj0ay"
      }
    },
    {
      "cell_type": "code",
      "source": [
        "l1 = []\n",
        "l2 = []\n",
        "\n",
        "for i in range(1 ,30):\n",
        "  if i**2 <= 30:\n",
        "    l1.append(i)\n",
        "    l2.append(i**2)\n",
        "else:\n",
        "  print(l1)\n",
        "  print(l2)\n"
      ],
      "metadata": {
        "colab": {
          "base_uri": "https://localhost:8080/"
        },
        "id": "zKmcWr1yhZ71",
        "outputId": "8dcbdf84-0734-45c8-9a11-dfcedd527cd5"
      },
      "execution_count": null,
      "outputs": [
        {
          "output_type": "stream",
          "name": "stdout",
          "text": [
            "[1, 2, 3, 4, 5]\n",
            "[1, 4, 9, 16, 25]\n"
          ]
        }
      ]
    },
    {
      "cell_type": "markdown",
      "source": [
        "Write a Python function that takes a list and returns a new list with unique \n",
        "elements of the first list."
      ],
      "metadata": {
        "id": "gPf58Ifhl-xb"
      }
    },
    {
      "cell_type": "code",
      "source": [
        "l1 = []\n",
        "\n",
        "n = int(input(\"Enter number of elements you want to enter =\"))\n",
        "\n",
        "for i in range(0, n):\n",
        "  element = input()\n",
        "  l1.append(element)\n",
        "else:\n",
        "  print(l1)  \n",
        "\n",
        "l2 = []\n",
        "\n",
        "for i1 in l1:\n",
        "  if i1 not in l2:\n",
        "    l2.append(i1)\n",
        "else:\n",
        "  print(l2)\n",
        "\n"
      ],
      "metadata": {
        "colab": {
          "base_uri": "https://localhost:8080/"
        },
        "id": "i7rEIGSCl3Iu",
        "outputId": "80e72a9e-c2cb-4abe-a066-69ba9b158926"
      },
      "execution_count": null,
      "outputs": [
        {
          "output_type": "stream",
          "name": "stdout",
          "text": [
            "Enter number of elements you want to enter =7\n",
            "2\n",
            "4\n",
            "5\n",
            "2\n",
            "4\n",
            "4\n",
            "7\n",
            "['2', '4', '5', '2', '4', '4', '7']\n",
            "['2', '4', '5', '7']\n"
          ]
        }
      ]
    },
    {
      "cell_type": "markdown",
      "source": [
        "Write a Python program to convert a list of characters into a string."
      ],
      "metadata": {
        "id": "3uIhBCS4nrij"
      }
    },
    {
      "cell_type": "code",
      "source": [
        "l1 = []\n",
        "\n",
        "n = int(input(\"Enter number of elements you want to enter =\"))\n",
        "\n",
        "for i in range(0, n):\n",
        "  element = input()\n",
        "  l1.append(element)\n",
        "else:\n",
        "  print(l1)\n",
        "\n",
        "str1 = \"\"\n",
        "\n",
        "for i1 in l1:\n",
        "  str1 += i1\n",
        "else:\n",
        "  print(str1)\n"
      ],
      "metadata": {
        "colab": {
          "base_uri": "https://localhost:8080/"
        },
        "id": "oIQ0wHvhnKTJ",
        "outputId": "97169825-1f24-439e-b73d-e68482e9f81c"
      },
      "execution_count": null,
      "outputs": [
        {
          "output_type": "stream",
          "name": "stdout",
          "text": [
            "Enter number of elements you want to enter =5\n",
            "s\n",
            "u\n",
            "y\n",
            "o\n",
            "g\n",
            "['s', 'u', 'y', 'o', 'g']\n",
            "suyog\n"
          ]
        }
      ]
    },
    {
      "cell_type": "markdown",
      "source": [
        "Write a Python program to select an item randomly from a list.\n"
      ],
      "metadata": {
        "id": "RMbeFY64odIW"
      }
    },
    {
      "cell_type": "code",
      "source": [
        "import random\n",
        "\n",
        "l1 = []\n",
        "for i in range(1, 50):\n",
        "  l1.append(i)\n",
        "print(l1)\n",
        "\n",
        "\n",
        "random.choice(l1)"
      ],
      "metadata": {
        "colab": {
          "base_uri": "https://localhost:8080/"
        },
        "id": "TBkbBUCdoVfJ",
        "outputId": "fd9c67c0-28a1-472e-c808-e53b2b5ba69d"
      },
      "execution_count": null,
      "outputs": [
        {
          "output_type": "stream",
          "name": "stdout",
          "text": [
            "[1, 2, 3, 4, 5, 6, 7, 8, 9, 10, 11, 12, 13, 14, 15, 16, 17, 18, 19, 20, 21, 22, 23, 24, 25, 26, 27, 28, 29, 30, 31, 32, 33, 34, 35, 36, 37, 38, 39, 40, 41, 42, 43, 44, 45, 46, 47, 48, 49]\n"
          ]
        },
        {
          "output_type": "execute_result",
          "data": {
            "text/plain": [
              "14"
            ]
          },
          "metadata": {},
          "execution_count": 8
        }
      ]
    },
    {
      "cell_type": "markdown",
      "source": [
        "Write a Python program to find the second smallest number in a list.\n"
      ],
      "metadata": {
        "id": "s4--4E0BpFON"
      }
    },
    {
      "cell_type": "code",
      "source": [
        "l1= [2, 33, 222, 14, 25]\n",
        "\n",
        "l1.sort()\n",
        "print(l1[1])\n"
      ],
      "metadata": {
        "colab": {
          "base_uri": "https://localhost:8080/"
        },
        "id": "mN-SFZSlomge",
        "outputId": "cbb018d7-ec1e-47e1-ae52-5618669f4f3b"
      },
      "execution_count": null,
      "outputs": [
        {
          "output_type": "stream",
          "name": "stdout",
          "text": [
            "14\n"
          ]
        }
      ]
    },
    {
      "cell_type": "markdown",
      "source": [
        "Write a Python program to check whether a list contains a sub list\n",
        "\n"
      ],
      "metadata": {
        "id": "73e76kmLqmfk"
      }
    },
    {
      "cell_type": "markdown",
      "source": [],
      "metadata": {
        "id": "jYad4u2Gqt1v"
      }
    },
    {
      "cell_type": "code",
      "source": [
        "l1 = [1, 2,['a', 1],3]\n",
        "\n",
        "for i in l1:\n",
        "  if type(i) == list:\n",
        "    print(\"It contains sub list\")\n",
        "  else:\n",
        "    pass\n",
        "  "
      ],
      "metadata": {
        "colab": {
          "base_uri": "https://localhost:8080/"
        },
        "id": "EiXdGFp6pZQl",
        "outputId": "5f2d4721-5e5b-4e11-f587-0c2f936b027d"
      },
      "execution_count": null,
      "outputs": [
        {
          "output_type": "stream",
          "name": "stdout",
          "text": [
            "It contains sub list\n"
          ]
        }
      ]
    },
    {
      "cell_type": "markdown",
      "source": [
        "Write a Python program to split a list into different variables"
      ],
      "metadata": {
        "id": "G__ZahbpsIHq"
      }
    },
    {
      "cell_type": "code",
      "source": [
        "l1 = [1, 2, 3, 4, 5]\n",
        "\n",
        "\n",
        "n = len(l1) // 2\n",
        "\n",
        "print(l1[:n])\n",
        "print(l1[n:])"
      ],
      "metadata": {
        "id": "X6X-KutKrlaC",
        "colab": {
          "base_uri": "https://localhost:8080/"
        },
        "outputId": "b9fa9787-ecf1-4fb0-8546-564a7c24cde4"
      },
      "execution_count": null,
      "outputs": [
        {
          "output_type": "stream",
          "name": "stdout",
          "text": [
            "[1, 2]\n",
            "[3, 4, 5]\n"
          ]
        }
      ]
    },
    {
      "cell_type": "markdown",
      "source": [
        "What is tuple? Difference between list and tuple.\n"
      ],
      "metadata": {
        "id": "mKQIVhGAqzAo"
      }
    },
    {
      "cell_type": "code",
      "source": [
        "\n"
      ],
      "metadata": {
        "id": "WRLEKTg3qYQn"
      },
      "execution_count": null,
      "outputs": []
    },
    {
      "cell_type": "markdown",
      "source": [
        "Write a Python program to create a tuple with different data types.\n"
      ],
      "metadata": {
        "id": "16BKfilcq3ql"
      }
    },
    {
      "cell_type": "code",
      "source": [
        "\n",
        "tuple(x)\n",
        "\n",
        "#where x is any data type\n",
        "\n"
      ],
      "metadata": {
        "colab": {
          "base_uri": "https://localhost:8080/"
        },
        "id": "CnWicbdWq1gS",
        "outputId": "d9a71cad-6c47-45c6-e35e-89fd619eeb93"
      },
      "execution_count": null,
      "outputs": [
        {
          "output_type": "execute_result",
          "data": {
            "text/plain": [
              "('s', 'u', 'y', 'o', 'g')"
            ]
          },
          "metadata": {},
          "execution_count": 5
        }
      ]
    },
    {
      "cell_type": "markdown",
      "source": [
        "Write a Python program to create a tuple with numbers.\n"
      ],
      "metadata": {
        "id": "BXLjP2Afrfku"
      }
    },
    {
      "cell_type": "code",
      "source": [
        "n = int(input(\"Total numbers you want to enter = \"))\n",
        "l1 = []\n",
        "for i in range(0, n):\n",
        "  ele = int(input(\"Enter Number = \"))\n",
        "  l1.append(ele)\n",
        "else:\n",
        "  print(tuple(l1))"
      ],
      "metadata": {
        "colab": {
          "base_uri": "https://localhost:8080/"
        },
        "id": "GA1TMG5RrPDM",
        "outputId": "f52e5144-9648-4f97-8da4-3f4a4553fa4f"
      },
      "execution_count": null,
      "outputs": [
        {
          "output_type": "stream",
          "name": "stdout",
          "text": [
            "Total numbers you want to enter = 6\n",
            "Enter Number = 1\n",
            "Enter Number = 2\n",
            "Enter Number = 3\n",
            "Enter Number = 4\n",
            "Enter Number = 5\n",
            "Enter Number = 6\n",
            "(1, 2, 3, 4, 5, 6)\n"
          ]
        }
      ]
    },
    {
      "cell_type": "markdown",
      "source": [
        "Write a Python program to convert a tuple to a string.\n"
      ],
      "metadata": {
        "id": "Tzbr2pUesTPE"
      }
    },
    {
      "cell_type": "code",
      "source": [
        "t1 = (\"S\" , \"u\", \"y\", \"o\", \"g\")\n",
        "s = \"\"\n",
        "for i in t1:\n",
        "  s += i\n",
        "  \n",
        "print(s)\n",
        "print(type(s))"
      ],
      "metadata": {
        "colab": {
          "base_uri": "https://localhost:8080/"
        },
        "id": "QW15tkKBsJwI",
        "outputId": "0993269a-eab8-4227-80a9-73a452387578"
      },
      "execution_count": null,
      "outputs": [
        {
          "output_type": "stream",
          "name": "stdout",
          "text": [
            "Suyog\n",
            "<class 'str'>\n"
          ]
        }
      ]
    },
    {
      "cell_type": "markdown",
      "source": [
        "Write a Python program to check whether an element exists within a \n",
        "tuple."
      ],
      "metadata": {
        "id": "-Ls_NQHOs8yI"
      }
    },
    {
      "cell_type": "code",
      "source": [
        "n = int(input(\"Element you want to check = \"))\n",
        "\n",
        "t1 = (1, 2, 3, 4, 5)\n",
        "\n",
        "for i in t1:\n",
        "  if i == n:\n",
        "    print(\"Element exist\")\n",
        "  "
      ],
      "metadata": {
        "colab": {
          "base_uri": "https://localhost:8080/"
        },
        "id": "pkb2TuINsmFv",
        "outputId": "72cf4923-5807-48e2-c800-09625fe4bfee"
      },
      "execution_count": null,
      "outputs": [
        {
          "output_type": "stream",
          "name": "stdout",
          "text": [
            "Element you want to check = 4\n",
            "Element exist\n"
          ]
        }
      ]
    },
    {
      "cell_type": "markdown",
      "source": [
        "Write a Python program to find the length of a tuple.\n"
      ],
      "metadata": {
        "id": "abM9AHoOu_SS"
      }
    },
    {
      "cell_type": "code",
      "source": [
        "t1 = (1, 2, 3, 4, 5)\n",
        "\n",
        "len(t1)"
      ],
      "metadata": {
        "colab": {
          "base_uri": "https://localhost:8080/"
        },
        "id": "xYp6C4uWtbkp",
        "outputId": "46f32fb0-18bc-410c-d3c7-b6f19919990d"
      },
      "execution_count": null,
      "outputs": [
        {
          "output_type": "execute_result",
          "data": {
            "text/plain": [
              "5"
            ]
          },
          "metadata": {},
          "execution_count": 23
        }
      ]
    },
    {
      "cell_type": "markdown",
      "source": [
        "Write a Python program to convert a list to a tuple.\n"
      ],
      "metadata": {
        "id": "gbOBwSXivF5p"
      }
    },
    {
      "cell_type": "code",
      "source": [
        "l1 = [1, 2, 3, 4]\n",
        "\n",
        "print(tuple(l1))\n"
      ],
      "metadata": {
        "colab": {
          "base_uri": "https://localhost:8080/"
        },
        "id": "SC7orcu8vElN",
        "outputId": "8d0c2d6f-d953-4fb9-a37f-9c3245952cbf"
      },
      "execution_count": null,
      "outputs": [
        {
          "output_type": "stream",
          "name": "stdout",
          "text": [
            "(1, 2, 3, 4)\n"
          ]
        }
      ]
    },
    {
      "cell_type": "markdown",
      "source": [
        "Write a Python program to reverse a tuple.\n"
      ],
      "metadata": {
        "id": "GSd4_S22vmp8"
      }
    },
    {
      "cell_type": "markdown",
      "source": [
        "Write a Python program to replace last value of tuples in a list.\n"
      ],
      "metadata": {
        "id": "p5Y1TISJwJFr"
      }
    },
    {
      "cell_type": "markdown",
      "source": [
        "Write a Python program to find the repeated items of a tuple.\n"
      ],
      "metadata": {
        "id": "0kydYFmWwWJ6"
      }
    },
    {
      "cell_type": "markdown",
      "source": [
        "Write a Python program to remove an empty tuple(s) from a list of tuples.\n"
      ],
      "metadata": {
        "id": "_eXywgJXwkrC"
      }
    },
    {
      "cell_type": "code",
      "source": [
        "t1 = (1, 2, 3, 4, 5)\n",
        "\n",
        "#we cant change the order of items in tuple\n",
        "#tuples are unchangeble\n",
        "#tuples doesnot contain repeated items"
      ],
      "metadata": {
        "id": "2ya4qMKwvdRB"
      },
      "execution_count": null,
      "outputs": []
    },
    {
      "cell_type": "markdown",
      "source": [
        "Write a Python program to unzip a list of tuples into individual lists.\n"
      ],
      "metadata": {
        "id": "J5KvUqzMwo1e"
      }
    },
    {
      "cell_type": "code",
      "source": [
        "l1 = [(1, 2, 3),(4, 5, 6),(7, 8),(1, 6)]\n",
        "for i in l1:\n",
        " for k in i:\n",
        "    s = \"\"\n",
        "    s += k\n",
        "\n",
        "    for j in s:\n",
        "      l2 = []\n",
        "      l2.append(j)\n",
        "    else:\n",
        "      print(l2)\n",
        "  "
      ],
      "metadata": {
        "colab": {
          "base_uri": "https://localhost:8080/",
          "height": 235
        },
        "id": "ldY7dcJ2vszJ",
        "outputId": "5921700d-64e9-44e8-e692-574e113b975b"
      },
      "execution_count": null,
      "outputs": [
        {
          "output_type": "error",
          "ename": "TypeError",
          "evalue": "ignored",
          "traceback": [
            "\u001b[0;31m---------------------------------------------------------------------------\u001b[0m",
            "\u001b[0;31mTypeError\u001b[0m                                 Traceback (most recent call last)",
            "\u001b[0;32m<ipython-input-33-3fc9771dc381>\u001b[0m in \u001b[0;36m<module>\u001b[0;34m()\u001b[0m\n\u001b[1;32m      3\u001b[0m  \u001b[0;32mfor\u001b[0m \u001b[0mk\u001b[0m \u001b[0;32min\u001b[0m \u001b[0mi\u001b[0m\u001b[0;34m:\u001b[0m\u001b[0;34m\u001b[0m\u001b[0;34m\u001b[0m\u001b[0m\n\u001b[1;32m      4\u001b[0m     \u001b[0ms\u001b[0m \u001b[0;34m=\u001b[0m \u001b[0;34m\"\"\u001b[0m\u001b[0;34m\u001b[0m\u001b[0;34m\u001b[0m\u001b[0m\n\u001b[0;32m----> 5\u001b[0;31m     \u001b[0ms\u001b[0m \u001b[0;34m+=\u001b[0m \u001b[0mk\u001b[0m\u001b[0;34m\u001b[0m\u001b[0;34m\u001b[0m\u001b[0m\n\u001b[0m\u001b[1;32m      6\u001b[0m     \u001b[0mprint\u001b[0m\u001b[0;34m(\u001b[0m\u001b[0ms\u001b[0m\u001b[0;34m)\u001b[0m\u001b[0;34m\u001b[0m\u001b[0;34m\u001b[0m\u001b[0m\n\u001b[1;32m      7\u001b[0m     \u001b[0;32mfor\u001b[0m \u001b[0mj\u001b[0m \u001b[0;32min\u001b[0m \u001b[0ms\u001b[0m\u001b[0;34m:\u001b[0m\u001b[0;34m\u001b[0m\u001b[0;34m\u001b[0m\u001b[0m\n",
            "\u001b[0;31mTypeError\u001b[0m: can only concatenate str (not \"int\") to str"
          ]
        }
      ]
    },
    {
      "cell_type": "markdown",
      "source": [
        "Write a Python program to convert a list of tuples into a dictionary.\n"
      ],
      "metadata": {
        "id": "blxpaHzBy_Fm"
      }
    },
    {
      "cell_type": "markdown",
      "source": [
        " How will you create a dictionary using tuples in python?\n"
      ],
      "metadata": {
        "id": "uLSxeprL7Ovd"
      }
    },
    {
      "cell_type": "code",
      "source": [
        "list1 = [('A', 1), ('B', 2), ('C', 3)]\n",
        "dict1 = dict()\n",
        "\n",
        "for Letter,int1 in list1:\n",
        "  dict1.setdefault(Letter, int1)\n",
        "\n",
        "print(dict1)"
      ],
      "metadata": {
        "id": "EiCP-HDMxQTA",
        "colab": {
          "base_uri": "https://localhost:8080/"
        },
        "outputId": "eff819c1-801b-4aea-aa51-d1720edcc43a"
      },
      "execution_count": null,
      "outputs": [
        {
          "output_type": "stream",
          "name": "stdout",
          "text": [
            "{'A': 1, 'B': 2, 'C': 3}\n"
          ]
        }
      ]
    },
    {
      "cell_type": "markdown",
      "source": [
        "Write a Python script to sort (ascending and descending) a dictionary by \n",
        "value"
      ],
      "metadata": {
        "id": "LsnB5GPd7Ru7"
      }
    },
    {
      "cell_type": "code",
      "source": [
        "l1 = []\n",
        "d1 = {\n",
        "    \"k1\" : 7,\n",
        "    \"k2\" : 2,\n",
        "    \"k3\" : 8,\n",
        "    \"k4\" : 6\n",
        "      }\n",
        "print(sorted(d1.values()))\n",
        "\n",
        "\n",
        "\n",
        "\n",
        "\n"
      ],
      "metadata": {
        "id": "R-7dBOCY6N3Z",
        "colab": {
          "base_uri": "https://localhost:8080/"
        },
        "outputId": "84521301-d0a1-4754-cfca-3439cd01dfcd"
      },
      "execution_count": null,
      "outputs": [
        {
          "output_type": "stream",
          "name": "stdout",
          "text": [
            "[2, 6, 7, 8]\n"
          ]
        }
      ]
    },
    {
      "cell_type": "markdown",
      "source": [
        "Write a Python script to concatenate following dictionaries to create a \n",
        "new one.\n"
      ],
      "metadata": {
        "id": "LxmFmgDCBCqH"
      }
    },
    {
      "cell_type": "code",
      "source": [
        "d1 = {'k1' : 1, 'k2' : 2, 'k3' : 3}\n",
        "d2 = {'k4' : 4, 'k5' : 5, 'k6' : 6}\n",
        "\n",
        "\n",
        "for key, value in d2.items():\n",
        "  d1.setdefault(key , value)\n",
        "\n",
        "print(d1)"
      ],
      "metadata": {
        "id": "CdqW0-HmTwfk",
        "colab": {
          "base_uri": "https://localhost:8080/"
        },
        "outputId": "fc77dee1-df4b-4675-d2ae-65edd1aea214"
      },
      "execution_count": null,
      "outputs": [
        {
          "output_type": "stream",
          "name": "stdout",
          "text": [
            "{'k1': 1, 'k2': 2, 'k3': 3, 'k4': 4, 'k5': 5, 'k6': 6}\n"
          ]
        }
      ]
    },
    {
      "cell_type": "markdown",
      "source": [
        "Write a Python script to check if a given key already exists in a dictionary."
      ],
      "metadata": {
        "id": "2aQ2J4X3CZfN"
      }
    },
    {
      "cell_type": "code",
      "source": [
        "d1 = {'k1': 1, 'k2': 2, 'k3': 3, 'k4': 4, 'k5': 5, 'k6': 6}\n",
        "\n",
        "i = input()\n",
        "\n",
        "if i in d1.keys():\n",
        "  print(\"Exist\")\n",
        "else:\n",
        "  print(\"Not exist\")"
      ],
      "metadata": {
        "colab": {
          "base_uri": "https://localhost:8080/"
        },
        "id": "x_iFZQXyBk7O",
        "outputId": "92e127b3-a62a-4ad4-f958-de08cd09b655"
      },
      "execution_count": null,
      "outputs": [
        {
          "output_type": "stream",
          "name": "stdout",
          "text": [
            "fpj\n",
            "Not exist\n"
          ]
        }
      ]
    },
    {
      "cell_type": "markdown",
      "source": [
        "How Do You Traverse Through A Dictionary Object In Python?"
      ],
      "metadata": {
        "id": "JyaxJn1sC26D"
      }
    },
    {
      "cell_type": "code",
      "source": [],
      "metadata": {
        "id": "Cs0hG6egCt-O"
      },
      "execution_count": null,
      "outputs": []
    },
    {
      "cell_type": "markdown",
      "source": [
        "How Do You Check The Presence Of A Key In A Dictionary?"
      ],
      "metadata": {
        "id": "o0RmnnxwDJEN"
      }
    },
    {
      "cell_type": "code",
      "source": [
        "for key in dict.keys():\n",
        "  print(\"Exist\")"
      ],
      "metadata": {
        "id": "o_oGLss0DFX_"
      },
      "execution_count": null,
      "outputs": []
    },
    {
      "cell_type": "markdown",
      "source": [
        "Write a Python script to print a dictionary where the keys are numbers \n",
        "between 1 and 15."
      ],
      "metadata": {
        "id": "hAPD-hSXDSXK"
      }
    },
    {
      "cell_type": "code",
      "source": [
        "d1 = {}\n",
        "\n",
        "for i in range(2, 15):\n",
        "\n",
        "  d1.setdefault(i, 'value')\n",
        "print(d1)  "
      ],
      "metadata": {
        "colab": {
          "base_uri": "https://localhost:8080/"
        },
        "id": "4F7h-ys1DOMo",
        "outputId": "8e67600f-8375-499e-8920-84b02cf80b51"
      },
      "execution_count": null,
      "outputs": [
        {
          "output_type": "stream",
          "name": "stdout",
          "text": [
            "{2: 'value', 3: 'value', 4: 'value', 5: 'value', 6: 'value', 7: 'value', 8: 'value', 9: 'value', 10: 'value', 11: 'value', 12: 'value', 13: 'value', 14: 'value'}\n"
          ]
        }
      ]
    },
    {
      "cell_type": "markdown",
      "source": [
        "Write a Python program to check multiple keys exists in a dictionary"
      ],
      "metadata": {
        "id": "tkhCfKOVGNXR"
      }
    },
    {
      "cell_type": "code",
      "source": [
        "d1 = {'k1': 1, 'k2': 2, 'k3': 3, 'k4': 4, 'k5': 5, 'k6': 6}\n",
        "\n",
        "# For dictionary without sub dictionary\n",
        "# if length of dictionary > 1 , which means there are multiple keys\n",
        "if len(d1) > 1:\n",
        "  print(\"Multiple Keys\")\n",
        "\n",
        "\n",
        "\n",
        "\n"
      ],
      "metadata": {
        "colab": {
          "base_uri": "https://localhost:8080/"
        },
        "id": "Us1S9EN_F9ZV",
        "outputId": "72cfc4ec-d8a4-4bee-b043-2d69ce795cef"
      },
      "execution_count": null,
      "outputs": [
        {
          "output_type": "stream",
          "name": "stdout",
          "text": [
            "Multiple Keys\n"
          ]
        }
      ]
    },
    {
      "cell_type": "markdown",
      "source": [
        "Write a Python script to merge two Python dictionaries"
      ],
      "metadata": {
        "id": "5XxwnbJYIQIf"
      }
    },
    {
      "cell_type": "code",
      "source": [
        "d1 = {'k1' : 1, 'k2' : 2, 'k3' : 3}\n",
        "d2 = {'k4' : 4, 'k5' : 5, 'k6' : 6}\n",
        "\n",
        "\n",
        "for key, value in d2.items():\n",
        "  d1.setdefault(key , value)\n",
        "\n",
        "print(d1)\n",
        "\n"
      ],
      "metadata": {
        "colab": {
          "base_uri": "https://localhost:8080/"
        },
        "id": "xokBowbtGboI",
        "outputId": "d8fd67ac-620d-4bba-a11a-6f96e672f051"
      },
      "execution_count": null,
      "outputs": [
        {
          "output_type": "stream",
          "name": "stdout",
          "text": [
            "None\n"
          ]
        }
      ]
    },
    {
      "cell_type": "markdown",
      "source": [
        " Write a Python program to map two lists into a dictionary"
      ],
      "metadata": {
        "id": "-jMBgaA4JS6j"
      }
    },
    {
      "cell_type": "code",
      "source": [
        "l1 = [1, 2, 3, 4, 5]\n",
        "l2 = [24, 52, 14, 63, 41]\n",
        "d1 = {}\n",
        "\n",
        "\n",
        "\n",
        "print(d1)"
      ],
      "metadata": {
        "colab": {
          "base_uri": "https://localhost:8080/",
          "height": 235
        },
        "id": "azPjVgnrI0st",
        "outputId": "734c8a80-e065-404b-947f-2b7c6b47bac7"
      },
      "execution_count": null,
      "outputs": [
        {
          "output_type": "error",
          "ename": "ValueError",
          "evalue": "ignored",
          "traceback": [
            "\u001b[0;31m---------------------------------------------------------------------------\u001b[0m",
            "\u001b[0;31mValueError\u001b[0m                                Traceback (most recent call last)",
            "\u001b[0;32m<ipython-input-39-3b10da0b544d>\u001b[0m in \u001b[0;36m<module>\u001b[0;34m()\u001b[0m\n\u001b[1;32m      2\u001b[0m \u001b[0ml2\u001b[0m \u001b[0;34m=\u001b[0m \u001b[0;34m[\u001b[0m\u001b[0;36m24\u001b[0m\u001b[0;34m,\u001b[0m \u001b[0;36m52\u001b[0m\u001b[0;34m,\u001b[0m \u001b[0;36m14\u001b[0m\u001b[0;34m,\u001b[0m \u001b[0;36m63\u001b[0m\u001b[0;34m,\u001b[0m \u001b[0;36m41\u001b[0m\u001b[0;34m]\u001b[0m\u001b[0;34m\u001b[0m\u001b[0;34m\u001b[0m\u001b[0m\n\u001b[1;32m      3\u001b[0m \u001b[0md1\u001b[0m \u001b[0;34m=\u001b[0m \u001b[0;34m{\u001b[0m\u001b[0;34m}\u001b[0m\u001b[0;34m\u001b[0m\u001b[0;34m\u001b[0m\u001b[0m\n\u001b[0;32m----> 4\u001b[0;31m \u001b[0;32mfor\u001b[0m \u001b[0;34m(\u001b[0m\u001b[0mi\u001b[0m\u001b[0;34m,\u001b[0m \u001b[0mj\u001b[0m\u001b[0;34m)\u001b[0m \u001b[0;32min\u001b[0m \u001b[0;34m(\u001b[0m\u001b[0ml1\u001b[0m\u001b[0;34m,\u001b[0m \u001b[0ml2\u001b[0m\u001b[0;34m)\u001b[0m \u001b[0;34m:\u001b[0m\u001b[0;34m\u001b[0m\u001b[0;34m\u001b[0m\u001b[0m\n\u001b[0m\u001b[1;32m      5\u001b[0m   \u001b[0md1\u001b[0m\u001b[0;34m.\u001b[0m\u001b[0msetdefault\u001b[0m\u001b[0;34m(\u001b[0m\u001b[0mi\u001b[0m\u001b[0;34m,\u001b[0m \u001b[0mj\u001b[0m\u001b[0;34m)\u001b[0m\u001b[0;34m\u001b[0m\u001b[0;34m\u001b[0m\u001b[0m\n\u001b[1;32m      6\u001b[0m \u001b[0;34m\u001b[0m\u001b[0m\n",
            "\u001b[0;31mValueError\u001b[0m: too many values to unpack (expected 2)"
          ]
        }
      ]
    },
    {
      "cell_type": "markdown",
      "source": [
        "Write a Python program to combine two dictionary adding values for \n",
        "common keys.\n",
        "o d1 = {'a': 100, 'b': 200, 'c':300}\n",
        "o d2 = {'a': 300, 'b': 200,’d’:400}"
      ],
      "metadata": {
        "id": "K_XANSXIK6Mz"
      }
    },
    {
      "cell_type": "code",
      "source": [
        "d1 = {'a': 100, 'b': 200, 'c':300}\n",
        "d2 = {'a': 300, 'b': 200, 'd':400}\n",
        "\n",
        "# for key, value in d2.items():\n",
        "#   d1.setdefault(key , value)\n",
        "\n",
        "# print(d1)\n",
        "\n",
        "d3 = d1.items() + d2.items()\n",
        "print(d3)"
      ],
      "metadata": {
        "colab": {
          "base_uri": "https://localhost:8080/",
          "height": 218
        },
        "id": "CmciOdQLJs_t",
        "outputId": "d9613105-cd23-40d1-d86e-1d5c5f3143ad"
      },
      "execution_count": null,
      "outputs": [
        {
          "output_type": "error",
          "ename": "TypeError",
          "evalue": "ignored",
          "traceback": [
            "\u001b[0;31m---------------------------------------------------------------------------\u001b[0m",
            "\u001b[0;31mTypeError\u001b[0m                                 Traceback (most recent call last)",
            "\u001b[0;32m<ipython-input-2-cb57df8f8098>\u001b[0m in \u001b[0;36m<module>\u001b[0;34m()\u001b[0m\n\u001b[1;32m      7\u001b[0m \u001b[0;31m# print(d1)\u001b[0m\u001b[0;34m\u001b[0m\u001b[0;34m\u001b[0m\u001b[0;34m\u001b[0m\u001b[0m\n\u001b[1;32m      8\u001b[0m \u001b[0;34m\u001b[0m\u001b[0m\n\u001b[0;32m----> 9\u001b[0;31m \u001b[0md3\u001b[0m \u001b[0;34m=\u001b[0m \u001b[0md1\u001b[0m\u001b[0;34m.\u001b[0m\u001b[0mitems\u001b[0m\u001b[0;34m(\u001b[0m\u001b[0;34m)\u001b[0m \u001b[0;34m+\u001b[0m \u001b[0md2\u001b[0m\u001b[0;34m.\u001b[0m\u001b[0mitems\u001b[0m\u001b[0;34m(\u001b[0m\u001b[0;34m)\u001b[0m\u001b[0;34m\u001b[0m\u001b[0;34m\u001b[0m\u001b[0m\n\u001b[0m\u001b[1;32m     10\u001b[0m \u001b[0mprint\u001b[0m\u001b[0;34m(\u001b[0m\u001b[0md3\u001b[0m\u001b[0;34m)\u001b[0m\u001b[0;34m\u001b[0m\u001b[0;34m\u001b[0m\u001b[0m\n",
            "\u001b[0;31mTypeError\u001b[0m: unsupported operand type(s) for +: 'dict_items' and 'dict_items'"
          ]
        }
      ]
    },
    {
      "cell_type": "markdown",
      "source": [],
      "metadata": {
        "id": "kztac9BJx4IU"
      }
    },
    {
      "cell_type": "markdown",
      "source": [
        " Write a Python program to print all unique values in a dictionary"
      ],
      "metadata": {
        "id": "hgQYh-wJzYRu"
      }
    },
    {
      "cell_type": "code",
      "source": [
        "d1 = {'a': 100, 'b': 200, 'c':300}\n",
        "d2 = {'a': 300, 'b': 200, 'd':400}\n",
        "\n",
        "\n",
        "for key, value in d2.items():\n",
        "  d1.setdefault(key, value)\n",
        "\n",
        "\n",
        "print(d1)\n",
        "\n",
        "for i in d1.values():\n",
        "  print(i, end=' ')"
      ],
      "metadata": {
        "id": "oynR5Xn5LKzt",
        "colab": {
          "base_uri": "https://localhost:8080/"
        },
        "outputId": "d1614b1c-81a7-4871-8364-b71e88e648a4"
      },
      "execution_count": null,
      "outputs": [
        {
          "output_type": "stream",
          "name": "stdout",
          "text": [
            "{'a': 100, 'b': 200, 'c': 300, 'd': 400}\n",
            "100 200 300 400 "
          ]
        }
      ]
    },
    {
      "cell_type": "markdown",
      "source": [
        "Why Do You Use the Zip () Method in Python?\n"
      ],
      "metadata": {
        "id": "YbZSua8D0qRj"
      }
    },
    {
      "cell_type": "markdown",
      "source": [
        "Write a Python program to create and display all combinations of letters,\n",
        "selecting each letter from a different key in a dictionary.\n",
        "o Sample data: {'1': ['a','b'], '2': ['c','d']}\n",
        "o Expected Output:\n",
        "o ac ad bc bd"
      ],
      "metadata": {
        "id": "5FV_mec21DcO"
      }
    },
    {
      "cell_type": "code",
      "source": [
        "d1 =  {'1': ['a','b'], '2': ['c','d']}\n",
        "\n",
        "l1 = d1['1']\n",
        "l2 = d1['2']\n",
        "\n",
        "for i in l1:\n",
        "  for j in l2:\n",
        "    print(i+j, end=' ')\n",
        "\n"
      ],
      "metadata": {
        "colab": {
          "base_uri": "https://localhost:8080/"
        },
        "id": "js0hErs60PEK",
        "outputId": "7b5234c6-b9f5-44ff-ef56-82f8717266ce"
      },
      "execution_count": null,
      "outputs": [
        {
          "output_type": "stream",
          "name": "stdout",
          "text": [
            "ac ad bc bd "
          ]
        }
      ]
    },
    {
      "cell_type": "markdown",
      "source": [
        "Write a Python program to find the highest 3 values in a dictionary"
      ],
      "metadata": {
        "id": "q0-TmwEW3GvE"
      }
    },
    {
      "cell_type": "code",
      "source": [
        "d1 = {'a': 100, 'b': 200, 'c':300, 'd': 400}\n",
        "l1 = []\n",
        "for i in d1.values():\n",
        "  l1.append(i)\n",
        "\n",
        "print(l1)\n",
        "\n",
        "\n",
        "l1.reverse()\n",
        "\n",
        "\n",
        "print(l1[0], l1[1], l1[2])"
      ],
      "metadata": {
        "colab": {
          "base_uri": "https://localhost:8080/"
        },
        "id": "kesMCMV21r-w",
        "outputId": "eb386cb6-0bc0-4fc0-9ebe-30551ed1f2ce"
      },
      "execution_count": null,
      "outputs": [
        {
          "output_type": "stream",
          "name": "stdout",
          "text": [
            "[100, 200, 300, 400]\n",
            "400 300 200\n"
          ]
        }
      ]
    },
    {
      "cell_type": "markdown",
      "source": [
        "Write a Python program to combine values in python list of dictionaries. \n",
        "Sample data: [{'item': 'item1', 'amount': 400}, {'item': 'item2', 'amount': \n",
        "300}, {'item': 'item1', 'amount': 750}]\n",
        "o Expected Output: Counter ({'item1': 1150, 'item2': 300})\n"
      ],
      "metadata": {
        "id": "dPQNcydI4UA4"
      }
    },
    {
      "cell_type": "code",
      "source": [
        "l1 = [{'item': 'item1', 'amount': 400}, {'item': 'item2', 'amount': 300}, {'item': 'item1', 'amount': 750}]\n",
        "\n",
        "for i in l1:\n",
        "  for key, values in i.items():\n",
        "    "
      ],
      "metadata": {
        "id": "2HV9XMas3gK8"
      },
      "execution_count": null,
      "outputs": []
    },
    {
      "cell_type": "markdown",
      "source": [
        "Write a Python program to create a dictionary from a string.\n",
        "o Note: Track the count of the letters from the string. Sample string:\n",
        "'w3resource'\n",
        "o Expected output: {'3': 1,’s’: 1, 'r': 2, 'u': 1, 'w': 1, 'c': 1, 'e': 2, 'o': 1}"
      ],
      "metadata": {
        "id": "45OUoUyM6WlT"
      }
    },
    {
      "cell_type": "code",
      "source": [
        "str1 = 'w3resource'\n",
        "d1 = dict()\n",
        "\n",
        "for i in str1:\n",
        "  d1.setdefault(i, str1.count(i))\n",
        "\n",
        "print(d1)\n",
        "\n",
        "\n",
        "\n",
        "\n",
        "\n"
      ],
      "metadata": {
        "colab": {
          "base_uri": "https://localhost:8080/"
        },
        "id": "kINWt_jH6V_8",
        "outputId": "790a245f-eeaa-41ba-eb9a-003e8b5725d5"
      },
      "execution_count": null,
      "outputs": [
        {
          "output_type": "stream",
          "name": "stdout",
          "text": [
            "{'w': 1, '3': 1, 'r': 2, 'e': 2, 's': 1, 'o': 1, 'u': 1, 'c': 1}\n"
          ]
        }
      ]
    },
    {
      "cell_type": "markdown",
      "source": [
        "Write a Python function to calculate the factorial of a number (a non\u0002negative integer)"
      ],
      "metadata": {
        "id": "5CGIhpXg7jEV"
      }
    },
    {
      "cell_type": "code",
      "source": [
        "num = int(input(\"Number = \"))\n",
        "\n",
        "\n",
        "\n",
        "def fac(num):\n",
        "  sum = 1\n",
        "  i = 1\n",
        "  while i <= num :\n",
        "    sum = (sum * i)\n",
        "    i = i + 1\n",
        "  print(sum)\n",
        "\n",
        "if num>0:\n",
        "  fac(num)\n",
        "else:\n",
        "  print(\"Enter again\")"
      ],
      "metadata": {
        "colab": {
          "base_uri": "https://localhost:8080/"
        },
        "id": "2sRMXvdO7GsM",
        "outputId": "9b92589c-5bfc-4d99-a054-342bf617703c"
      },
      "execution_count": null,
      "outputs": [
        {
          "output_type": "stream",
          "name": "stdout",
          "text": [
            "Number = 4\n",
            "24\n"
          ]
        }
      ]
    },
    {
      "cell_type": "markdown",
      "source": [
        " Write a Python function to check whether a number is in a given range\n"
      ],
      "metadata": {
        "id": "rlT6ggnz9AUL"
      }
    },
    {
      "cell_type": "code",
      "source": [
        "num = int(input(\"Number = \"))\n",
        "\n",
        "def fun1(num):\n",
        "  if num>=18 :\n",
        "    print('You can drive')\n",
        "  else:\n",
        "    print('You cant drive')\n",
        "\n",
        "fun1(num)"
      ],
      "metadata": {
        "colab": {
          "base_uri": "https://localhost:8080/"
        },
        "id": "26hvfZiR74bo",
        "outputId": "ecc42a65-2536-453a-f06b-770ad8267a67"
      },
      "execution_count": null,
      "outputs": [
        {
          "output_type": "stream",
          "name": "stdout",
          "text": [
            "Number = 15\n",
            "You cant drive\n"
          ]
        }
      ]
    },
    {
      "cell_type": "markdown",
      "source": [
        " Write a Python function to check whether a number is perfect or not.\n"
      ],
      "metadata": {
        "id": "nqkPZUOM9los"
      }
    },
    {
      "cell_type": "code",
      "source": [
        "def perfect_number(n):\n",
        "    sum = 0\n",
        "    for x in range(1, n):\n",
        "        if n % x == 0:\n",
        "            sum += x\n",
        "    return sum == n\n",
        "print(perfect_number(5))"
      ],
      "metadata": {
        "id": "_0io_GtG9Y1T",
        "colab": {
          "base_uri": "https://localhost:8080/"
        },
        "outputId": "b621fb83-056a-4776-a0ad-1c61a22b4530"
      },
      "execution_count": null,
      "outputs": [
        {
          "output_type": "stream",
          "name": "stdout",
          "text": [
            "False\n"
          ]
        }
      ]
    },
    {
      "cell_type": "markdown",
      "source": [
        "Write a Python function that checks whether a passed string is palindrome \n",
        "or not"
      ],
      "metadata": {
        "id": "81ZNn1gG__5c"
      }
    },
    {
      "cell_type": "code",
      "source": [
        "def fun2(num):\n",
        "  str1 = str(num)\n",
        "  str2 = ''\n",
        "  l1 = []\n",
        "  for i in str1:\n",
        "    l1.append(i)\n",
        "  l1.reverse()\n",
        "  for j in l1:\n",
        "    str2 += j\n",
        "  if str1 == str2:\n",
        "    print('Pelindrome')\n",
        "  else:\n",
        "    print(\"not Pelindrome\")\n",
        "\n",
        "\n",
        "fun2(1234)"
      ],
      "metadata": {
        "colab": {
          "base_uri": "https://localhost:8080/"
        },
        "id": "0gymJpED-8Lo",
        "outputId": "8d099ec2-3647-4cc6-f233-508944396bfb"
      },
      "execution_count": null,
      "outputs": [
        {
          "output_type": "stream",
          "name": "stdout",
          "text": [
            "not Pelindrome\n"
          ]
        }
      ]
    },
    {
      "cell_type": "markdown",
      "source": [
        "How do you perform pattern matching in Python? Explain"
      ],
      "metadata": {
        "id": "0sKqnuwgC0uv"
      }
    },
    {
      "cell_type": "code",
      "source": [],
      "metadata": {
        "id": "ayt1mDgCC0Ed"
      },
      "execution_count": null,
      "outputs": []
    },
    {
      "cell_type": "markdown",
      "source": [
        "What is lambda function in python? What we call a function which is \n",
        "incomplete version of a function?"
      ],
      "metadata": {
        "id": "56-kEViiCom5"
      }
    },
    {
      "cell_type": "code",
      "source": [],
      "metadata": {
        "id": "c2gYA3hRBbUr"
      },
      "execution_count": null,
      "outputs": []
    },
    {
      "cell_type": "markdown",
      "source": [
        "How Many Basic Types Of Functions Are Available In Python?"
      ],
      "metadata": {
        "id": "hnAxoc6tC3u2"
      }
    },
    {
      "cell_type": "code",
      "source": [],
      "metadata": {
        "id": "qAmMxmc3C2og"
      },
      "execution_count": null,
      "outputs": []
    },
    {
      "cell_type": "markdown",
      "source": [
        "How can you pick a random item from a list or tuple?"
      ],
      "metadata": {
        "id": "7ber34_iC8JY"
      }
    },
    {
      "cell_type": "code",
      "source": [],
      "metadata": {
        "id": "P_A2CqBIC7rO"
      },
      "execution_count": null,
      "outputs": []
    }
  ]
}