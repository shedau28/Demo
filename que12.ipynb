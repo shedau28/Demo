{
 "cells": [
  {
   "cell_type": "markdown",
   "metadata": {},
   "source": [
    "Write a Python program to copy the contents of a file to another file."
   ]
  },
  {
   "cell_type": "code",
   "execution_count": 7,
   "metadata": {},
   "outputs": [
    {
     "data": {
      "text/plain": [
       "'Hello \\nMy name is Suyog.\\nI am from Ahmedabad.\\nWelcome'"
      ]
     },
     "execution_count": 7,
     "metadata": {},
     "output_type": "execute_result"
    }
   ],
   "source": [
    "file1 = open(\"file1.txt\", 'r')\n",
    "\n",
    "\n",
    "file2 = open(\"file3.txt\", 'a')\n",
    "\n",
    "for i in file1.readlines():\n",
    "    file2.write(i)\n",
    "file2.close()\n",
    "\n",
    "\n",
    "file2 = open(\"file3.txt\", 'r')\n",
    "\n",
    "\n",
    "file2.read()"
   ]
  },
  {
   "cell_type": "code",
   "execution_count": null,
   "metadata": {},
   "outputs": [],
   "source": []
  }
 ],
 "metadata": {
  "kernelspec": {
   "display_name": "Python 3.9.12 ('base')",
   "language": "python",
   "name": "python3"
  },
  "language_info": {
   "codemirror_mode": {
    "name": "ipython",
    "version": 3
   },
   "file_extension": ".py",
   "mimetype": "text/x-python",
   "name": "python",
   "nbconvert_exporter": "python",
   "pygments_lexer": "ipython3",
   "version": "3.9.12"
  },
  "orig_nbformat": 4,
  "vscode": {
   "interpreter": {
    "hash": "b39b40d89182cd6add9dd2a479fac46ebeda8ee0e63eb70aa61eb1df7c540ffe"
   }
  }
 },
 "nbformat": 4,
 "nbformat_minor": 2
}
