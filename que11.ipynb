{
 "cells": [
  {
   "cell_type": "markdown",
   "metadata": {},
   "source": [
    "Write a Python program to write a list to a file."
   ]
  },
  {
   "cell_type": "code",
   "execution_count": 10,
   "metadata": {},
   "outputs": [
    {
     "data": {
      "text/plain": [
       "'\\n Hello\\n Suyog\\n Tops\\n Welcome'"
      ]
     },
     "execution_count": 10,
     "metadata": {},
     "output_type": "execute_result"
    }
   ],
   "source": [
    "l1 = ['Hello', 'Suyog', 'Tops', 'Welcome']\n",
    "\n",
    "file = open(\"file2.txt\", 'a')\n",
    "\n",
    "for i in l1:\n",
    "    file.write(f\"\\n {i}\")\n",
    "\n",
    "file.close()\n",
    "\n",
    "file = open(\"file2.txt\", 'r')\n",
    "\n",
    "file.read()\n",
    "\n",
    "\n",
    "\n"
   ]
  },
  {
   "cell_type": "code",
   "execution_count": null,
   "metadata": {},
   "outputs": [],
   "source": []
  }
 ],
 "metadata": {
  "kernelspec": {
   "display_name": "Python 3.9.12 ('base')",
   "language": "python",
   "name": "python3"
  },
  "language_info": {
   "codemirror_mode": {
    "name": "ipython",
    "version": 3
   },
   "file_extension": ".py",
   "mimetype": "text/x-python",
   "name": "python",
   "nbconvert_exporter": "python",
   "pygments_lexer": "ipython3",
   "version": "3.9.12"
  },
  "orig_nbformat": 4,
  "vscode": {
   "interpreter": {
    "hash": "b39b40d89182cd6add9dd2a479fac46ebeda8ee0e63eb70aa61eb1df7c540ffe"
   }
  }
 },
 "nbformat": 4,
 "nbformat_minor": 2
}
