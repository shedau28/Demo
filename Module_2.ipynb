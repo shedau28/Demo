{
  "nbformat": 4,
  "nbformat_minor": 0,
  "metadata": {
    "colab": {
      "name": "Module_2.ipynb",
      "provenance": [],
      "collapsed_sections": [],
      "authorship_tag": "ABX9TyOXav6yMlkr41wsaUfjg8Rn",
      "include_colab_link": true
    },
    "kernelspec": {
      "name": "python3",
      "display_name": "Python 3"
    },
    "language_info": {
      "name": "python"
    }
  },
  "cells": [
    {
      "cell_type": "markdown",
      "metadata": {
        "id": "view-in-github",
        "colab_type": "text"
      },
      "source": [
        "<a href=\"https://colab.research.google.com/github/shedau28/Demo/blob/master/Module_2.ipynb\" target=\"_parent\"><img src=\"https://colab.research.google.com/assets/colab-badge.svg\" alt=\"Open In Colab\"/></a>"
      ]
    },
    {
      "cell_type": "markdown",
      "source": [],
      "metadata": {
        "id": "mIHcc6FX2hJz"
      }
    },
    {
      "cell_type": "markdown",
      "source": [
        "-> Write a Python program to check if a number is positive, negative or zero."
      ],
      "metadata": {
        "id": "lOO5QEhk2lSB"
      }
    },
    {
      "cell_type": "code",
      "execution_count": null,
      "metadata": {
        "id": "yGXwqOaF2fkn"
      },
      "outputs": [],
      "source": [
        "n = int(input(\"Enter Number = \"))\n",
        "\n",
        "if n<0:\n",
        "  print(\"Entered Number is Negetive\")\n",
        "elif n>0:\n",
        "    print(\"Entered Number is Positive\")\n",
        "else:\n",
        "  print(\"Entered Number is Zero\")"
      ]
    },
    {
      "cell_type": "markdown",
      "source": [
        "-> Write a Python program to get the Factorial number of given number.\n"
      ],
      "metadata": {
        "id": "-3pL0rhm3bJD"
      }
    },
    {
      "cell_type": "markdown",
      "source": [],
      "metadata": {
        "id": "737ReTNi_8Mq"
      }
    },
    {
      "cell_type": "code",
      "source": [
        "num = int(input(\"Number = \"))\n",
        "\n",
        "sum = 1\n",
        "i = 1\n",
        "\n",
        "while i <= num :\n",
        "  sum = (sum * i)\n",
        "  i = i + 1\n",
        "print(sum)\n"
      ],
      "metadata": {
        "colab": {
          "base_uri": "https://localhost:8080/"
        },
        "id": "UZtl-mIc3M35",
        "outputId": "6d19b946-97da-46cd-f57b-3c9fb8628ba7"
      },
      "execution_count": null,
      "outputs": [
        {
          "output_type": "stream",
          "name": "stdout",
          "text": [
            "Number = 5\n",
            "120\n"
          ]
        }
      ]
    },
    {
      "cell_type": "markdown",
      "source": [
        "Write a Python program to get the Fibonacci series of given range.\n"
      ],
      "metadata": {
        "id": "YeY3TDelAFdW"
      }
    },
    {
      "cell_type": "code",
      "source": [
        "num1 = int(input(\"Enter Range = \"))\n",
        "\n",
        "for i in range(0, num1):\n",
        "  if x = i and y = (i + 1):\n",
        "    print(x + y)\n",
        "  i += 1\n",
        "  "
      ],
      "metadata": {
        "colab": {
          "base_uri": "https://localhost:8080/",
          "height": 130
        },
        "id": "VG7fxLuN4-Zp",
        "outputId": "5523c489-002c-454b-cd2d-db18d80795b9"
      },
      "execution_count": null,
      "outputs": [
        {
          "output_type": "error",
          "ename": "SyntaxError",
          "evalue": "ignored",
          "traceback": [
            "\u001b[0;36m  File \u001b[0;32m\"<ipython-input-25-c68da236f084>\"\u001b[0;36m, line \u001b[0;32m4\u001b[0m\n\u001b[0;31m    if x = i and y = (i + 1):\u001b[0m\n\u001b[0m         ^\u001b[0m\n\u001b[0;31mSyntaxError\u001b[0m\u001b[0;31m:\u001b[0m invalid syntax\n"
          ]
        }
      ]
    },
    {
      "cell_type": "markdown",
      "source": [
        "How memory is managed in Python?\n",
        "\n"
      ],
      "metadata": {
        "id": "5qWrPeW6CfgB"
      }
    },
    {
      "cell_type": "markdown",
      "source": [
        "Write python program that swap two number with temp variable and\n",
        "without temp variable.\n"
      ],
      "metadata": {
        "id": "c5EoLpwKCj5a"
      }
    },
    {
      "cell_type": "code",
      "source": [
        "a = input(\"a = \")\n",
        "c = input(\"c = \")\n",
        "\n",
        "a, c = c, a\n",
        "\n",
        "print(\"a =\", a ,\"c =\", c)"
      ],
      "metadata": {
        "colab": {
          "base_uri": "https://localhost:8080/"
        },
        "id": "HXYn-xNUArio",
        "outputId": "37d4b421-c9b6-4645-d361-992cf4b28567"
      },
      "execution_count": null,
      "outputs": [
        {
          "output_type": "stream",
          "name": "stdout",
          "text": [
            "a = 1\n",
            "c = 6\n",
            "a = 6 c = 1\n"
          ]
        }
      ]
    },
    {
      "cell_type": "markdown",
      "source": [
        "Write a Python program to find whether a given number is even or odd,\n",
        "print out an appropriate message to the user."
      ],
      "metadata": {
        "id": "khh0guLwEZ8u"
      }
    },
    {
      "cell_type": "code",
      "source": [
        "\n",
        "num2 = int(input(\"Enter Number = \"))\n",
        "\n",
        "if (num2 % 2 == 0) :\n",
        "  print(\"Number is even\")\n",
        "else:\n",
        "  print(\"number is Odd\")\n"
      ],
      "metadata": {
        "id": "7sormP4vDHHu",
        "colab": {
          "base_uri": "https://localhost:8080/"
        },
        "outputId": "48b30627-a7b6-46fe-a92e-035ca1f125b4"
      },
      "execution_count": null,
      "outputs": [
        {
          "output_type": "stream",
          "name": "stdout",
          "text": [
            "Enter Number = 7\n",
            "number is Odd\n"
          ]
        }
      ]
    },
    {
      "cell_type": "markdown",
      "source": [
        "Write a Python program to test whether a passed letter is a vowel or not."
      ],
      "metadata": {
        "id": "fkfmvbCLE6Xn"
      }
    },
    {
      "cell_type": "code",
      "source": [
        "str1 = input(\"Enter Letter = \")\n",
        "\n",
        "if (str1 == 'a') or (str1 == \"e\") or (str1 == 'i') or (str1 == 'o') or (str1 == 'u') :\n",
        "  print(\"Its a vowel\")\n",
        "else:\n",
        "  print(\"Its not a vowel\")\n",
        "\n",
        "\n",
        "    "
      ],
      "metadata": {
        "colab": {
          "base_uri": "https://localhost:8080/"
        },
        "id": "_x-dqi3JEyfZ",
        "outputId": "6fe688a3-7a90-4e11-fbc1-1d4bba625266"
      },
      "execution_count": null,
      "outputs": [
        {
          "output_type": "stream",
          "name": "stdout",
          "text": [
            "Enter Letter = u\n",
            "Its a vowel\n"
          ]
        }
      ]
    },
    {
      "cell_type": "markdown",
      "source": [
        "Write a Python program to sum of three given integers.However, if two\n",
        "values are equal sum will be zero."
      ],
      "metadata": {
        "id": "cQPfZiTeK66T"
      }
    },
    {
      "cell_type": "code",
      "source": [
        "num11 = int(input(\"Enternumber1 = \"))\n",
        "num12 = int(input(\"Enternumber2 = \"))\n",
        "num13 = int(input(\"Enternumber3 = \"))\n",
        "\n",
        "answer1 = 0\n",
        "answer2 = num11 + num12 + num13\n",
        "\n",
        "if (num11 == num12) or (num11 == num13) or (num12 == num13):\n",
        "  print(f\"Your answer is {answer1}\")\n",
        "else:\n",
        "  print(f\"Your answer is {answer2}\")"
      ],
      "metadata": {
        "id": "ND_X7Uo7F0wN",
        "colab": {
          "base_uri": "https://localhost:8080/"
        },
        "outputId": "74df0d8a-0ca9-4817-ea3a-1ff334b5e3ee"
      },
      "execution_count": null,
      "outputs": [
        {
          "output_type": "stream",
          "name": "stdout",
          "text": [
            "Enternumber1 = 2\n",
            "Enternumber2 = 3\n",
            "Enternumber3 = 4\n",
            "Your answer is 9\n"
          ]
        }
      ]
    },
    {
      "cell_type": "markdown",
      "source": [
        "Write a Python program that will return true if the two given integer values\n",
        "are equal or their sum or difference is 5."
      ],
      "metadata": {
        "id": "06DWyPyxMUwJ"
      }
    },
    {
      "cell_type": "code",
      "source": [
        "num21 = int(input(\"Enter Greater Number = \"))\n",
        "num22 = int(input(\"Enter Lower Number = \"))\n",
        "\n",
        "sum = num21 + num22\n",
        "dif = num21 - num22\n",
        "\n",
        "if sum == 5 or dif == 5 or num21 == num22 :\n",
        "  print(\"True\")\n",
        "else:\n",
        "  print(\"False\")\n",
        "\n",
        "\n",
        "\n"
      ],
      "metadata": {
        "colab": {
          "base_uri": "https://localhost:8080/"
        },
        "id": "Or8ZYe2QMOqS",
        "outputId": "06517bed-6e65-4f85-900e-64eaeecdef9e"
      },
      "execution_count": null,
      "outputs": [
        {
          "output_type": "stream",
          "name": "stdout",
          "text": [
            "Enter Greater Number = 3\n",
            "Enter Lower Number = 2\n",
            "True\n"
          ]
        }
      ]
    },
    {
      "cell_type": "markdown",
      "source": [
        "Write a python program to sum of the first n positive integers.\n"
      ],
      "metadata": {
        "id": "IMGnil6fO5do"
      }
    },
    {
      "cell_type": "code",
      "source": [
        "n1 = int(input(\"Enter range = \"))\n",
        "sum1 = 0\n",
        "for i in range(n1+1):\n",
        "  sum1 = sum1+i\n",
        "print(sum1)"
      ],
      "metadata": {
        "colab": {
          "base_uri": "https://localhost:8080/"
        },
        "id": "MzA8XY93ODuU",
        "outputId": "a8d4bd5e-e25c-48a9-d62b-70a48fbdc9c2"
      },
      "execution_count": null,
      "outputs": [
        {
          "output_type": "stream",
          "name": "stdout",
          "text": [
            "Enter range = 4\n",
            "10\n"
          ]
        }
      ]
    },
    {
      "cell_type": "markdown",
      "source": [
        " Write a Python program to calculate the length of a string."
      ],
      "metadata": {
        "id": "Ny4EPrHwRN0T"
      }
    },
    {
      "cell_type": "code",
      "source": [
        "str2 = input(\"Enter text = \")\n",
        "print(len(str2))"
      ],
      "metadata": {
        "colab": {
          "base_uri": "https://localhost:8080/"
        },
        "id": "GwCe9kR9PfcQ",
        "outputId": "cbaf9b33-413e-4bd1-ff2b-b8beba92535c"
      },
      "execution_count": null,
      "outputs": [
        {
          "output_type": "stream",
          "name": "stdout",
          "text": [
            "Enter text = Hello Suyog\n",
            "11\n"
          ]
        }
      ]
    },
    {
      "cell_type": "markdown",
      "source": [
        "Write a Python program to count the number of characters (character\n",
        "frequency) in a string\n"
      ],
      "metadata": {
        "id": "Jp_igPlHRjWl"
      }
    },
    {
      "cell_type": "code",
      "source": [
        "str3 = input(\"Enter text = \")\n",
        "print(len(str3))"
      ],
      "metadata": {
        "colab": {
          "base_uri": "https://localhost:8080/"
        },
        "id": "_XzPQK2SRbI0",
        "outputId": "a802b50c-fdac-4e03-fca0-ec29590a9c5e"
      },
      "execution_count": null,
      "outputs": [
        {
          "output_type": "stream",
          "name": "stdout",
          "text": [
            "Enter text = Hello\n",
            "5\n"
          ]
        }
      ]
    },
    {
      "cell_type": "markdown",
      "source": [
        "Write a Python program to count occurrences of a substring in a string.\n",
        "\n",
        "Write a Python program to count the occurrences of each word in a given\n",
        "sentence"
      ],
      "metadata": {
        "id": "GyNY6LXvSIWZ"
      }
    },
    {
      "cell_type": "code",
      "source": [
        "str5 = \"Hello! my name is Suyog.\"\n",
        "\n",
        "str4 = input()\n",
        "\n",
        "str5.count(str4)"
      ],
      "metadata": {
        "colab": {
          "base_uri": "https://localhost:8080/"
        },
        "id": "Q3lsLt3kRvPD",
        "outputId": "cb2f16ce-bbed-4637-d6ff-1f848b9d4fb7"
      },
      "execution_count": null,
      "outputs": [
        {
          "name": "stdout",
          "output_type": "stream",
          "text": [
            "o\n"
          ]
        },
        {
          "output_type": "execute_result",
          "data": {
            "text/plain": [
              "2"
            ]
          },
          "metadata": {},
          "execution_count": 33
        }
      ]
    },
    {
      "cell_type": "markdown",
      "source": [
        "Write a Python program to get a single string from two given strings,\n",
        "separated by a space and swap the first two characters of each string."
      ],
      "metadata": {
        "id": "Q9mOqV4JTnet"
      }
    },
    {
      "cell_type": "code",
      "source": [
        "str11 = input(\"Enter Word = \")\n",
        "str12 = input(\"Enter Word = \")\n",
        "\n",
        "l1 = []\n",
        "l2 = []\n",
        "\n",
        "for i in str11 :\n",
        "  l1.append(i)\n",
        "\n",
        "print(l1)\n",
        "\n",
        "for j in str12:\n",
        "  l2.append(j)\n",
        "\n",
        "print(l2)\n",
        "\n",
        "(l1[0] , l2[0]) = (l2[0] , l1[0])\n",
        "(l1[1] , l2[1]) = (l2[1] , l1[1])\n",
        "\n",
        "print(l1)\n",
        "print(l2)\n",
        "\n",
        "lst1 = l1 + l2\n",
        "print(lst1)\n",
        "\n",
        "for i4 in lst1:\n",
        "  print(i4, end=\" \")\n",
        "\n",
        "\n",
        "\n",
        "\n",
        "\n",
        "  \n",
        "\n",
        "\n",
        "  \n",
        "  "
      ],
      "metadata": {
        "colab": {
          "base_uri": "https://localhost:8080/"
        },
        "id": "HXtyrBgiSiiF",
        "outputId": "30a91161-090f-4be8-ba3b-293f84135795"
      },
      "execution_count": null,
      "outputs": [
        {
          "output_type": "stream",
          "name": "stdout",
          "text": [
            "Enter Word = suyog\n",
            "Enter Word = hedau\n",
            "['s', 'u', 'y', 'o', 'g']\n",
            "['h', 'e', 'd', 'a', 'u']\n",
            "['h', 'e', 'y', 'o', 'g']\n",
            "['s', 'u', 'd', 'a', 'u']\n",
            "['h', 'e', 'y', 'o', 'g', 's', 'u', 'd', 'a', 'u']\n",
            "h e y o g s u d a u "
          ]
        }
      ]
    },
    {
      "cell_type": "markdown",
      "source": [
        "Write a Python program to add 'ing' at the end of a given string (length\n",
        "should be at least 3). If the given string already ends with 'ing' then add 'ly'\n",
        "insteadif the string length of the given string is less than 3, leave it\n",
        "unchanged"
      ],
      "metadata": {
        "id": "N1Boh_iMbWwk"
      }
    },
    {
      "cell_type": "code",
      "source": [
        "str23 = input(\"Enter word = \")\n",
        "\n",
        "list23 = []\n",
        "\n",
        "for i34 in str23:\n",
        "  list23.append(i34)\n",
        "\n",
        "\n",
        "\n",
        "if len(list23) >= 3 :\n",
        "  if list23[-1] != \"g\" or list23[-2] != \"n\" or list23[-3] != \"i\" :\n",
        "    list23.append(\"ing\")\n",
        "  else:\n",
        "    print(\"It contains ing\")\n",
        "else:\n",
        "  print(str23)\n",
        "\n",
        "for i9 in list23:\n",
        "  print(i9 , end=\"\")\n",
        "\n"
      ],
      "metadata": {
        "id": "ElQIaXegUJI7",
        "colab": {
          "base_uri": "https://localhost:8080/"
        },
        "outputId": "f0543368-8dd7-45bd-decb-734bd47c3172"
      },
      "execution_count": null,
      "outputs": [
        {
          "output_type": "stream",
          "name": "stdout",
          "text": [
            "Enter word = engineer\n",
            "engineering"
          ]
        }
      ]
    },
    {
      "cell_type": "markdown",
      "source": [
        "Write a Python program to find the first appearance of the substring 'not'\n",
        "and 'poor' froma given string, if 'not' follows the 'poor', replace the whole\n",
        "'not'...'poor'substring with 'good'. Return the resulting string.\n"
      ],
      "metadata": {
        "id": "rcQFB78ak5hb"
      }
    },
    {
      "cell_type": "code",
      "source": [
        "\n"
      ],
      "metadata": {
        "id": "_Wjzt5GtiLTc"
      },
      "execution_count": null,
      "outputs": []
    },
    {
      "cell_type": "markdown",
      "source": [
        "Write a Python function to reverses a string if its length is a multiple of 4."
      ],
      "metadata": {
        "id": "gFUwKbc5w0mZ"
      }
    },
    {
      "cell_type": "code",
      "source": [
        "n11 = input(\"Enter string = \")\n",
        "lst11 = []\n",
        "\n",
        "def revlst():\n",
        "  for i5 in n11:\n",
        "    lst11.append(i5)\n",
        "  \n",
        "    \n",
        "     \n",
        "\n",
        "if len(n11) % 4 == 0:\n",
        "  revlst()\n",
        "  \n",
        "else:\n",
        "  print(\"length is not multiple of 4\")\n",
        "\n",
        "lst22 = lst11.reverse()\n",
        "\n",
        "for i33 in lst11:\n",
        "  print(i33, end=\"\")\n"
      ],
      "metadata": {
        "id": "50EcYXcvkxFg",
        "colab": {
          "base_uri": "https://localhost:8080/"
        },
        "outputId": "aae9bb3f-58cc-4d6f-bebe-108a0c4b7cbe"
      },
      "execution_count": null,
      "outputs": [
        {
          "output_type": "stream",
          "name": "stdout",
          "text": [
            "Enter string = 12345678\n",
            "87654321"
          ]
        }
      ]
    },
    {
      "cell_type": "markdown",
      "source": [
        "Write a Python program to get a string made of the first 2 and the last 2\n",
        "chars from a given a string. Ifthe string length islessthan 2,return instead\n",
        "of the empty string."
      ],
      "metadata": {
        "id": "kNJvL8HK2vay"
      }
    },
    {
      "cell_type": "code",
      "source": [
        "n99 = input(\"Enter String = \")\n",
        "lst55 = []\n",
        "lst66 = []\n",
        "\n",
        "def chstr():\n",
        "  for i66 in n99:\n",
        "    lst55.append(i66)\n",
        "\n",
        "\n",
        "if len(n99) >= 2 :\n",
        "  chstr()\n",
        "  lst66.append(lst55[0])\n",
        "  lst66.append(lst55[1])\n",
        "  lst66.append(lst55[-2])\n",
        "  lst66.append(lst55[-1])\n",
        "\n",
        "\n",
        "else:\n",
        "  print(\"Empty String\")\n",
        "\n",
        "for i77 in lst66:\n",
        "  print(i77, end=\"\")\n",
        "\n",
        "\n",
        "  "
      ],
      "metadata": {
        "colab": {
          "base_uri": "https://localhost:8080/"
        },
        "id": "XWWaxGtExJny",
        "outputId": "e4e18720-2865-4691-ac44-a2325a054c7a"
      },
      "execution_count": null,
      "outputs": [
        {
          "output_type": "stream",
          "name": "stdout",
          "text": [
            "Enter String = t\n",
            "Empty String\n"
          ]
        }
      ]
    }
  ]
}