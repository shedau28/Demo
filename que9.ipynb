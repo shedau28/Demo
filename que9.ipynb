{
 "cells": [
  {
   "cell_type": "markdown",
   "metadata": {},
   "source": [
    "Write a Python program to count the number of lines in a text file.\n"
   ]
  },
  {
   "cell_type": "code",
   "execution_count": 1,
   "metadata": {},
   "outputs": [
    {
     "name": "stdout",
     "output_type": "stream",
     "text": [
      "4\n"
     ]
    }
   ],
   "source": [
    "file = open(\"file1.txt\")\n",
    "\n",
    "lines = file.readlines()\n",
    "l1 = []\n",
    "total = 0\n",
    "# n = int(input())\n",
    "for line in lines:\n",
    "    total += 1\n",
    "    # if total>n:\n",
    "    #     break\n",
    "    # print('line', total,':', line.strip())\n",
    "else:\n",
    "    print(total)"
   ]
  },
  {
   "cell_type": "code",
   "execution_count": null,
   "metadata": {},
   "outputs": [],
   "source": []
  }
 ],
 "metadata": {
  "kernelspec": {
   "display_name": "Python 3.9.12 ('base')",
   "language": "python",
   "name": "python3"
  },
  "language_info": {
   "codemirror_mode": {
    "name": "ipython",
    "version": 3
   },
   "file_extension": ".py",
   "mimetype": "text/x-python",
   "name": "python",
   "nbconvert_exporter": "python",
   "pygments_lexer": "ipython3",
   "version": "3.9.12"
  },
  "orig_nbformat": 4,
  "vscode": {
   "interpreter": {
    "hash": "b39b40d89182cd6add9dd2a479fac46ebeda8ee0e63eb70aa61eb1df7c540ffe"
   }
  }
 },
 "nbformat": 4,
 "nbformat_minor": 2
}
