{
 "cells": [
  {
   "cell_type": "markdown",
   "metadata": {},
   "source": [
    "Write a Python program to count the frequency of words in a file."
   ]
  },
  {
   "cell_type": "code",
   "execution_count": 13,
   "metadata": {},
   "outputs": [
    {
     "name": "stdout",
     "output_type": "stream",
     "text": [
      "['My', 'name', 'is', 'Suyog.', 'I', 'am', 'from', 'Ahmedabad.', 'Welcome']\n"
     ]
    }
   ],
   "source": [
    "file = open(\"file1.txt\")\n",
    "file.seek(0)\n",
    "for i in file:\n",
    "    print(file.read().split())\n",
    "\n",
    "count = 0\n",
    "x = input()\n",
    "for j in file.read().split():\n",
    "    if j == x:\n",
    "        count += 1\n",
    "        print(count)\n",
    "    else:\n",
    "        print(\"not exist\")\n",
    "\n",
    "\n"
   ]
  },
  {
   "cell_type": "code",
   "execution_count": null,
   "metadata": {},
   "outputs": [],
   "source": []
  }
 ],
 "metadata": {
  "kernelspec": {
   "display_name": "Python 3.9.12 ('base')",
   "language": "python",
   "name": "python3"
  },
  "language_info": {
   "codemirror_mode": {
    "name": "ipython",
    "version": 3
   },
   "file_extension": ".py",
   "mimetype": "text/x-python",
   "name": "python",
   "nbconvert_exporter": "python",
   "pygments_lexer": "ipython3",
   "version": "3.9.12"
  },
  "orig_nbformat": 4,
  "vscode": {
   "interpreter": {
    "hash": "b39b40d89182cd6add9dd2a479fac46ebeda8ee0e63eb70aa61eb1df7c540ffe"
   }
  }
 },
 "nbformat": 4,
 "nbformat_minor": 2
}
